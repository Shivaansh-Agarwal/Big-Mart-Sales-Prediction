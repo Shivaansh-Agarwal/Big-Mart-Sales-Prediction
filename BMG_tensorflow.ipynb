{
  "nbformat": 4,
  "nbformat_minor": 0,
  "metadata": {
    "colab": {
      "name": "BMG_tensorflow.ipynb",
      "provenance": [],
      "collapsed_sections": [],
      "authorship_tag": "ABX9TyMEKliZ8CYysZESF/bVlIaF",
      "include_colab_link": true
    },
    "kernelspec": {
      "name": "python3",
      "display_name": "Python 3"
    },
    "accelerator": "GPU"
  },
  "cells": [
    {
      "cell_type": "markdown",
      "metadata": {
        "id": "view-in-github",
        "colab_type": "text"
      },
      "source": [
        "<a href=\"https://colab.research.google.com/github/Abhijeet-Katiyar/Big-Mart-Sales-Prediction-1/blob/master/BMG_tensorflow.ipynb\" target=\"_parent\"><img src=\"https://colab.research.google.com/assets/colab-badge.svg\" alt=\"Open In Colab\"/></a>"
      ]
    },
    {
      "cell_type": "code",
      "metadata": {
        "id": "4hfKi7kQVXjA"
      },
      "source": [
        "import tensorflow as tf"
      ],
      "execution_count": null,
      "outputs": []
    },
    {
      "cell_type": "code",
      "metadata": {
        "id": "1DLL4R7EVb-D"
      },
      "source": [
        "import pandas as pd"
      ],
      "execution_count": null,
      "outputs": []
    },
    {
      "cell_type": "code",
      "metadata": {
        "id": "0h70Jv8vVoVk"
      },
      "source": [
        "train=pd.read_csv('https://raw.githubusercontent.com/Abhijeet-Katiyar/Big-MArt-Sales-prediction/master/Train_UWu5bXk.csv')\n",
        "test=pd.read_csv('https://raw.githubusercontent.com/Abhijeet-Katiyar/Big-MArt-Sales-prediction/master/Test_u94Q5KV.csv')"
      ],
      "execution_count": null,
      "outputs": []
    },
    {
      "cell_type": "code",
      "metadata": {
        "id": "XEPUGdTRaMxU",
        "outputId": "300a7041-621a-4674-bbc9-b45c943fb5de",
        "colab": {
          "base_uri": "https://localhost:8080/",
          "height": 313
        }
      },
      "source": [
        "train.head()"
      ],
      "execution_count": null,
      "outputs": [
        {
          "output_type": "execute_result",
          "data": {
            "text/html": [
              "<div>\n",
              "<style scoped>\n",
              "    .dataframe tbody tr th:only-of-type {\n",
              "        vertical-align: middle;\n",
              "    }\n",
              "\n",
              "    .dataframe tbody tr th {\n",
              "        vertical-align: top;\n",
              "    }\n",
              "\n",
              "    .dataframe thead th {\n",
              "        text-align: right;\n",
              "    }\n",
              "</style>\n",
              "<table border=\"1\" class=\"dataframe\">\n",
              "  <thead>\n",
              "    <tr style=\"text-align: right;\">\n",
              "      <th></th>\n",
              "      <th>Item_Identifier</th>\n",
              "      <th>Item_Weight</th>\n",
              "      <th>Item_Fat_Content</th>\n",
              "      <th>Item_Visibility</th>\n",
              "      <th>Item_Type</th>\n",
              "      <th>Item_MRP</th>\n",
              "      <th>Outlet_Identifier</th>\n",
              "      <th>Outlet_Establishment_Year</th>\n",
              "      <th>Outlet_Size</th>\n",
              "      <th>Outlet_Location_Type</th>\n",
              "      <th>Outlet_Type</th>\n",
              "      <th>Item_Outlet_Sales</th>\n",
              "    </tr>\n",
              "  </thead>\n",
              "  <tbody>\n",
              "    <tr>\n",
              "      <th>0</th>\n",
              "      <td>FDA15</td>\n",
              "      <td>9.30</td>\n",
              "      <td>Low Fat</td>\n",
              "      <td>0.016047</td>\n",
              "      <td>Dairy</td>\n",
              "      <td>249.8092</td>\n",
              "      <td>OUT049</td>\n",
              "      <td>1999</td>\n",
              "      <td>Medium</td>\n",
              "      <td>Tier 1</td>\n",
              "      <td>Supermarket Type1</td>\n",
              "      <td>3735.1380</td>\n",
              "    </tr>\n",
              "    <tr>\n",
              "      <th>1</th>\n",
              "      <td>DRC01</td>\n",
              "      <td>5.92</td>\n",
              "      <td>Regular</td>\n",
              "      <td>0.019278</td>\n",
              "      <td>Soft Drinks</td>\n",
              "      <td>48.2692</td>\n",
              "      <td>OUT018</td>\n",
              "      <td>2009</td>\n",
              "      <td>Medium</td>\n",
              "      <td>Tier 3</td>\n",
              "      <td>Supermarket Type2</td>\n",
              "      <td>443.4228</td>\n",
              "    </tr>\n",
              "    <tr>\n",
              "      <th>2</th>\n",
              "      <td>FDN15</td>\n",
              "      <td>17.50</td>\n",
              "      <td>Low Fat</td>\n",
              "      <td>0.016760</td>\n",
              "      <td>Meat</td>\n",
              "      <td>141.6180</td>\n",
              "      <td>OUT049</td>\n",
              "      <td>1999</td>\n",
              "      <td>Medium</td>\n",
              "      <td>Tier 1</td>\n",
              "      <td>Supermarket Type1</td>\n",
              "      <td>2097.2700</td>\n",
              "    </tr>\n",
              "    <tr>\n",
              "      <th>3</th>\n",
              "      <td>FDX07</td>\n",
              "      <td>19.20</td>\n",
              "      <td>Regular</td>\n",
              "      <td>0.000000</td>\n",
              "      <td>Fruits and Vegetables</td>\n",
              "      <td>182.0950</td>\n",
              "      <td>OUT010</td>\n",
              "      <td>1998</td>\n",
              "      <td>NaN</td>\n",
              "      <td>Tier 3</td>\n",
              "      <td>Grocery Store</td>\n",
              "      <td>732.3800</td>\n",
              "    </tr>\n",
              "    <tr>\n",
              "      <th>4</th>\n",
              "      <td>NCD19</td>\n",
              "      <td>8.93</td>\n",
              "      <td>Low Fat</td>\n",
              "      <td>0.000000</td>\n",
              "      <td>Household</td>\n",
              "      <td>53.8614</td>\n",
              "      <td>OUT013</td>\n",
              "      <td>1987</td>\n",
              "      <td>High</td>\n",
              "      <td>Tier 3</td>\n",
              "      <td>Supermarket Type1</td>\n",
              "      <td>994.7052</td>\n",
              "    </tr>\n",
              "  </tbody>\n",
              "</table>\n",
              "</div>"
            ],
            "text/plain": [
              "  Item_Identifier  Item_Weight  ...        Outlet_Type  Item_Outlet_Sales\n",
              "0           FDA15         9.30  ...  Supermarket Type1          3735.1380\n",
              "1           DRC01         5.92  ...  Supermarket Type2           443.4228\n",
              "2           FDN15        17.50  ...  Supermarket Type1          2097.2700\n",
              "3           FDX07        19.20  ...      Grocery Store           732.3800\n",
              "4           NCD19         8.93  ...  Supermarket Type1           994.7052\n",
              "\n",
              "[5 rows x 12 columns]"
            ]
          },
          "metadata": {
            "tags": []
          },
          "execution_count": 129
        }
      ]
    },
    {
      "cell_type": "code",
      "metadata": {
        "id": "rd-NxjpUdl2U"
      },
      "source": [
        "Data=train.append(test,sort=False)"
      ],
      "execution_count": null,
      "outputs": []
    },
    {
      "cell_type": "code",
      "metadata": {
        "id": "wYZyS_RoeYIc",
        "outputId": "795f0403-50d9-4d56-d725-3e39db5ce8f8",
        "colab": {
          "base_uri": "https://localhost:8080/",
          "height": 253
        }
      },
      "source": [
        "Data.isnull().sum()"
      ],
      "execution_count": null,
      "outputs": [
        {
          "output_type": "execute_result",
          "data": {
            "text/plain": [
              "Item_Identifier                 0\n",
              "Item_Weight                  2439\n",
              "Item_Fat_Content                0\n",
              "Item_Visibility                 0\n",
              "Item_Type                       0\n",
              "Item_MRP                        0\n",
              "Outlet_Identifier               0\n",
              "Outlet_Establishment_Year       0\n",
              "Outlet_Size                  4016\n",
              "Outlet_Location_Type            0\n",
              "Outlet_Type                     0\n",
              "Item_Outlet_Sales            5681\n",
              "dtype: int64"
            ]
          },
          "metadata": {
            "tags": []
          },
          "execution_count": 131
        }
      ]
    },
    {
      "cell_type": "code",
      "metadata": {
        "id": "zB7V0FzDekPT",
        "outputId": "bd4eb065-a211-4388-dd98-c65637d074fe",
        "colab": {
          "base_uri": "https://localhost:8080/",
          "height": 126
        }
      },
      "source": [
        "Data['Item_Fat_Content'].value_counts()"
      ],
      "execution_count": null,
      "outputs": [
        {
          "output_type": "execute_result",
          "data": {
            "text/plain": [
              "Low Fat    8485\n",
              "Regular    4824\n",
              "LF          522\n",
              "reg         195\n",
              "low fat     178\n",
              "Name: Item_Fat_Content, dtype: int64"
            ]
          },
          "metadata": {
            "tags": []
          },
          "execution_count": 132
        }
      ]
    },
    {
      "cell_type": "code",
      "metadata": {
        "id": "AyUMaK-_emWZ"
      },
      "source": [
        "Data['Item_Fat_Content'] = Data['Item_Fat_Content'].replace({'LF':'Low Fat','reg':'Regular','low fat':'Low Fat'})"
      ],
      "execution_count": null,
      "outputs": []
    },
    {
      "cell_type": "code",
      "metadata": {
        "id": "99LVNKbIeoxE",
        "outputId": "da379b7c-c552-4a63-8be8-12c8833e3117",
        "colab": {
          "base_uri": "https://localhost:8080/",
          "height": 144
        }
      },
      "source": [
        "Data.groupby('Item_Identifier')['Item_Weight'].mean().head(5)"
      ],
      "execution_count": null,
      "outputs": [
        {
          "output_type": "execute_result",
          "data": {
            "text/plain": [
              "Item_Identifier\n",
              "DRA12    11.600\n",
              "DRA24    19.350\n",
              "DRA59     8.270\n",
              "DRB01     7.390\n",
              "DRB13     6.115\n",
              "Name: Item_Weight, dtype: float64"
            ]
          },
          "metadata": {
            "tags": []
          },
          "execution_count": 134
        }
      ]
    },
    {
      "cell_type": "code",
      "metadata": {
        "id": "ylSgrRc8eqor"
      },
      "source": [
        "for i in Data.groupby('Item_Identifier')['Item_Weight'].mean().index:\n",
        "    Data.loc[Data.loc[:,'Item_Identifier']==i,'Item_Weight']=Data.groupby('Item_Identifier')['Item_Weight'].mean()[i]"
      ],
      "execution_count": null,
      "outputs": []
    },
    {
      "cell_type": "code",
      "metadata": {
        "id": "QHm6jmfUfBrF"
      },
      "source": [
        "#Data['Outlet_Size'].fillna(Data['Outlet_Size'].mode()[0],inplace=True)\n",
        "Data.Outlet_Size.fillna(Data.Outlet_Size[Data['Outlet_Type']=='Grocery Store'].mode()[0],inplace=True)"
      ],
      "execution_count": null,
      "outputs": []
    },
    {
      "cell_type": "code",
      "metadata": {
        "id": "wE3bbOWMfGS1"
      },
      "source": [
        "Data.Outlet_Size.fillna(Data.Outlet_Size[Data['Outlet_Type']=='Supermarket Type1'].mode()[0],inplace=True)"
      ],
      "execution_count": null,
      "outputs": []
    },
    {
      "cell_type": "code",
      "metadata": {
        "id": "4ZyDDSJKfJbe"
      },
      "source": [
        "Data.Outlet_Size.fillna(Data.Outlet_Size[Data['Outlet_Type']=='Supermarket Type2'].mode()[0],inplace=True)"
      ],
      "execution_count": null,
      "outputs": []
    },
    {
      "cell_type": "code",
      "metadata": {
        "id": "fvENK805fLps"
      },
      "source": [
        "Data.Outlet_Size.fillna(Data.Outlet_Size[Data['Outlet_Type']=='Supermarket Type3'].mode()[0],inplace=True)"
      ],
      "execution_count": null,
      "outputs": []
    },
    {
      "cell_type": "code",
      "metadata": {
        "id": "cI6jXJf-fOvn"
      },
      "source": [
        "Train_data=Data.dropna()"
      ],
      "execution_count": null,
      "outputs": []
    },
    {
      "cell_type": "code",
      "metadata": {
        "id": "dCcHwAMAfRXc",
        "outputId": "910c6700-3764-4311-86a8-f5774b737f44",
        "colab": {
          "base_uri": "https://localhost:8080/",
          "height": 128
        }
      },
      "source": [
        "Test_Data=Data[Data['Item_Outlet_Sales'].isnull()]\n",
        "Test_Data.drop('Item_Outlet_Sales',axis=1,inplace=True)"
      ],
      "execution_count": null,
      "outputs": [
        {
          "output_type": "stream",
          "text": [
            "/usr/local/lib/python3.6/dist-packages/pandas/core/frame.py:3997: SettingWithCopyWarning: \n",
            "A value is trying to be set on a copy of a slice from a DataFrame\n",
            "\n",
            "See the caveats in the documentation: https://pandas.pydata.org/pandas-docs/stable/user_guide/indexing.html#returning-a-view-versus-a-copy\n",
            "  errors=errors,\n"
          ],
          "name": "stderr"
        }
      ]
    },
    {
      "cell_type": "code",
      "metadata": {
        "id": "VIHigYMhfTrt",
        "outputId": "37657d25-1d64-4fe5-e83e-2634461928c4",
        "colab": {
          "base_uri": "https://localhost:8080/",
          "height": 53
        }
      },
      "source": [
        "print(Test_Data.shape)\n",
        "print(Train_data.shape)"
      ],
      "execution_count": null,
      "outputs": [
        {
          "output_type": "stream",
          "text": [
            "(5681, 11)\n",
            "(8523, 12)\n"
          ],
          "name": "stdout"
        }
      ]
    },
    {
      "cell_type": "code",
      "metadata": {
        "id": "7Os91DKzhvpT"
      },
      "source": [
        "from sklearn.preprocessing import LabelEncoder"
      ],
      "execution_count": null,
      "outputs": []
    },
    {
      "cell_type": "code",
      "metadata": {
        "id": "BEkv6P3-hvv8"
      },
      "source": [
        "categorical_list=['Item_Fat_Content','Item_Type','Outlet_Identifier','Outlet_Size','Outlet_Location_Type','Outlet_Type','Outlet_Establishment_Year']"
      ],
      "execution_count": null,
      "outputs": []
    },
    {
      "cell_type": "code",
      "metadata": {
        "id": "TwY2gIIBhvtF",
        "outputId": "f2fb7ad8-7f37-4e50-c696-5970d962e8da",
        "colab": {
          "base_uri": "https://localhost:8080/",
          "height": 473
        }
      },
      "source": [
        "le = LabelEncoder()\n",
        "for i in categorical_list:\n",
        "    Train_data[i]=le.fit_transform(Train_data[i])\n",
        "    Train_data[i]=Train_data[i].astype('category')\n",
        "    Test_Data[i]=le.fit_transform(Test_Data[i])\n",
        "    Test_Data[i]=Test_Data[i].astype('category')"
      ],
      "execution_count": null,
      "outputs": [
        {
          "output_type": "stream",
          "text": [
            "/usr/local/lib/python3.6/dist-packages/ipykernel_launcher.py:3: SettingWithCopyWarning: \n",
            "A value is trying to be set on a copy of a slice from a DataFrame.\n",
            "Try using .loc[row_indexer,col_indexer] = value instead\n",
            "\n",
            "See the caveats in the documentation: https://pandas.pydata.org/pandas-docs/stable/user_guide/indexing.html#returning-a-view-versus-a-copy\n",
            "  This is separate from the ipykernel package so we can avoid doing imports until\n",
            "/usr/local/lib/python3.6/dist-packages/ipykernel_launcher.py:4: SettingWithCopyWarning: \n",
            "A value is trying to be set on a copy of a slice from a DataFrame.\n",
            "Try using .loc[row_indexer,col_indexer] = value instead\n",
            "\n",
            "See the caveats in the documentation: https://pandas.pydata.org/pandas-docs/stable/user_guide/indexing.html#returning-a-view-versus-a-copy\n",
            "  after removing the cwd from sys.path.\n",
            "/usr/local/lib/python3.6/dist-packages/ipykernel_launcher.py:5: SettingWithCopyWarning: \n",
            "A value is trying to be set on a copy of a slice from a DataFrame.\n",
            "Try using .loc[row_indexer,col_indexer] = value instead\n",
            "\n",
            "See the caveats in the documentation: https://pandas.pydata.org/pandas-docs/stable/user_guide/indexing.html#returning-a-view-versus-a-copy\n",
            "  \"\"\"\n",
            "/usr/local/lib/python3.6/dist-packages/ipykernel_launcher.py:6: SettingWithCopyWarning: \n",
            "A value is trying to be set on a copy of a slice from a DataFrame.\n",
            "Try using .loc[row_indexer,col_indexer] = value instead\n",
            "\n",
            "See the caveats in the documentation: https://pandas.pydata.org/pandas-docs/stable/user_guide/indexing.html#returning-a-view-versus-a-copy\n",
            "  \n"
          ],
          "name": "stderr"
        }
      ]
    },
    {
      "cell_type": "code",
      "metadata": {
        "id": "PPI_8UG1f2hN",
        "outputId": "2362a942-b388-4a60-98c8-b1703bdcf9da",
        "colab": {
          "base_uri": "https://localhost:8080/",
          "height": 175
        }
      },
      "source": [
        "Train_data.corr()"
      ],
      "execution_count": null,
      "outputs": [
        {
          "output_type": "execute_result",
          "data": {
            "text/html": [
              "<div>\n",
              "<style scoped>\n",
              "    .dataframe tbody tr th:only-of-type {\n",
              "        vertical-align: middle;\n",
              "    }\n",
              "\n",
              "    .dataframe tbody tr th {\n",
              "        vertical-align: top;\n",
              "    }\n",
              "\n",
              "    .dataframe thead th {\n",
              "        text-align: right;\n",
              "    }\n",
              "</style>\n",
              "<table border=\"1\" class=\"dataframe\">\n",
              "  <thead>\n",
              "    <tr style=\"text-align: right;\">\n",
              "      <th></th>\n",
              "      <th>Item_Weight</th>\n",
              "      <th>Item_Visibility</th>\n",
              "      <th>Item_MRP</th>\n",
              "      <th>Item_Outlet_Sales</th>\n",
              "    </tr>\n",
              "  </thead>\n",
              "  <tbody>\n",
              "    <tr>\n",
              "      <th>Item_Weight</th>\n",
              "      <td>1.000000</td>\n",
              "      <td>-0.009661</td>\n",
              "      <td>0.026172</td>\n",
              "      <td>0.013261</td>\n",
              "    </tr>\n",
              "    <tr>\n",
              "      <th>Item_Visibility</th>\n",
              "      <td>-0.009661</td>\n",
              "      <td>1.000000</td>\n",
              "      <td>-0.001315</td>\n",
              "      <td>-0.128625</td>\n",
              "    </tr>\n",
              "    <tr>\n",
              "      <th>Item_MRP</th>\n",
              "      <td>0.026172</td>\n",
              "      <td>-0.001315</td>\n",
              "      <td>1.000000</td>\n",
              "      <td>0.567574</td>\n",
              "    </tr>\n",
              "    <tr>\n",
              "      <th>Item_Outlet_Sales</th>\n",
              "      <td>0.013261</td>\n",
              "      <td>-0.128625</td>\n",
              "      <td>0.567574</td>\n",
              "      <td>1.000000</td>\n",
              "    </tr>\n",
              "  </tbody>\n",
              "</table>\n",
              "</div>"
            ],
            "text/plain": [
              "                   Item_Weight  Item_Visibility  Item_MRP  Item_Outlet_Sales\n",
              "Item_Weight           1.000000        -0.009661  0.026172           0.013261\n",
              "Item_Visibility      -0.009661         1.000000 -0.001315          -0.128625\n",
              "Item_MRP              0.026172        -0.001315  1.000000           0.567574\n",
              "Item_Outlet_Sales     0.013261        -0.128625  0.567574           1.000000"
            ]
          },
          "metadata": {
            "tags": []
          },
          "execution_count": 146
        }
      ]
    },
    {
      "cell_type": "code",
      "metadata": {
        "id": "xuBtVTOBhgOE",
        "outputId": "f1170243-ae1b-4048-8705-b95fd1bc4e9a",
        "colab": {
          "base_uri": "https://localhost:8080/",
          "height": 226
        }
      },
      "source": [
        "Train_data.head()"
      ],
      "execution_count": null,
      "outputs": [
        {
          "output_type": "execute_result",
          "data": {
            "text/html": [
              "<div>\n",
              "<style scoped>\n",
              "    .dataframe tbody tr th:only-of-type {\n",
              "        vertical-align: middle;\n",
              "    }\n",
              "\n",
              "    .dataframe tbody tr th {\n",
              "        vertical-align: top;\n",
              "    }\n",
              "\n",
              "    .dataframe thead th {\n",
              "        text-align: right;\n",
              "    }\n",
              "</style>\n",
              "<table border=\"1\" class=\"dataframe\">\n",
              "  <thead>\n",
              "    <tr style=\"text-align: right;\">\n",
              "      <th></th>\n",
              "      <th>Item_Identifier</th>\n",
              "      <th>Item_Weight</th>\n",
              "      <th>Item_Fat_Content</th>\n",
              "      <th>Item_Visibility</th>\n",
              "      <th>Item_Type</th>\n",
              "      <th>Item_MRP</th>\n",
              "      <th>Outlet_Identifier</th>\n",
              "      <th>Outlet_Establishment_Year</th>\n",
              "      <th>Outlet_Size</th>\n",
              "      <th>Outlet_Location_Type</th>\n",
              "      <th>Outlet_Type</th>\n",
              "      <th>Item_Outlet_Sales</th>\n",
              "    </tr>\n",
              "  </thead>\n",
              "  <tbody>\n",
              "    <tr>\n",
              "      <th>0</th>\n",
              "      <td>FDA15</td>\n",
              "      <td>9.30</td>\n",
              "      <td>0</td>\n",
              "      <td>0.016047</td>\n",
              "      <td>4</td>\n",
              "      <td>249.8092</td>\n",
              "      <td>9</td>\n",
              "      <td>4</td>\n",
              "      <td>1</td>\n",
              "      <td>0</td>\n",
              "      <td>1</td>\n",
              "      <td>3735.1380</td>\n",
              "    </tr>\n",
              "    <tr>\n",
              "      <th>1</th>\n",
              "      <td>DRC01</td>\n",
              "      <td>5.92</td>\n",
              "      <td>1</td>\n",
              "      <td>0.019278</td>\n",
              "      <td>14</td>\n",
              "      <td>48.2692</td>\n",
              "      <td>3</td>\n",
              "      <td>8</td>\n",
              "      <td>1</td>\n",
              "      <td>2</td>\n",
              "      <td>2</td>\n",
              "      <td>443.4228</td>\n",
              "    </tr>\n",
              "    <tr>\n",
              "      <th>2</th>\n",
              "      <td>FDN15</td>\n",
              "      <td>17.50</td>\n",
              "      <td>0</td>\n",
              "      <td>0.016760</td>\n",
              "      <td>10</td>\n",
              "      <td>141.6180</td>\n",
              "      <td>9</td>\n",
              "      <td>4</td>\n",
              "      <td>1</td>\n",
              "      <td>0</td>\n",
              "      <td>1</td>\n",
              "      <td>2097.2700</td>\n",
              "    </tr>\n",
              "    <tr>\n",
              "      <th>3</th>\n",
              "      <td>FDX07</td>\n",
              "      <td>19.20</td>\n",
              "      <td>1</td>\n",
              "      <td>0.000000</td>\n",
              "      <td>6</td>\n",
              "      <td>182.0950</td>\n",
              "      <td>0</td>\n",
              "      <td>3</td>\n",
              "      <td>2</td>\n",
              "      <td>2</td>\n",
              "      <td>0</td>\n",
              "      <td>732.3800</td>\n",
              "    </tr>\n",
              "    <tr>\n",
              "      <th>4</th>\n",
              "      <td>NCD19</td>\n",
              "      <td>8.93</td>\n",
              "      <td>0</td>\n",
              "      <td>0.000000</td>\n",
              "      <td>9</td>\n",
              "      <td>53.8614</td>\n",
              "      <td>1</td>\n",
              "      <td>1</td>\n",
              "      <td>0</td>\n",
              "      <td>2</td>\n",
              "      <td>1</td>\n",
              "      <td>994.7052</td>\n",
              "    </tr>\n",
              "  </tbody>\n",
              "</table>\n",
              "</div>"
            ],
            "text/plain": [
              "  Item_Identifier  Item_Weight  ... Outlet_Type  Item_Outlet_Sales\n",
              "0           FDA15         9.30  ...           1          3735.1380\n",
              "1           DRC01         5.92  ...           2           443.4228\n",
              "2           FDN15        17.50  ...           1          2097.2700\n",
              "3           FDX07        19.20  ...           0           732.3800\n",
              "4           NCD19         8.93  ...           1           994.7052\n",
              "\n",
              "[5 rows x 12 columns]"
            ]
          },
          "metadata": {
            "tags": []
          },
          "execution_count": 147
        }
      ]
    },
    {
      "cell_type": "code",
      "metadata": {
        "id": "y5MA1pNOnAr7"
      },
      "source": [
        "import numpy as np"
      ],
      "execution_count": null,
      "outputs": []
    },
    {
      "cell_type": "code",
      "metadata": {
        "id": "zu_yCe1qlvDt"
      },
      "source": [
        "# X_train=np.array(Train_data.drop(['Item_Outlet_Sales','Item_Identifier'],axis=1))\n",
        "# y_train=np.array(Train_data['Item_Outlet_Sales'])\n",
        "\n",
        "X=np.asarray((Train_data.drop(['Item_Outlet_Sales','Item_Identifier'],axis=1))).astype('float32')\n",
        "Y=np.asarray(Train_data['Item_Outlet_Sales']).astype('float32')"
      ],
      "execution_count": null,
      "outputs": []
    },
    {
      "cell_type": "code",
      "metadata": {
        "id": "bTMi1iz_lvJM",
        "outputId": "40257517-b0ca-4f30-f5dd-4e6733d90f0a",
        "colab": {
          "base_uri": "https://localhost:8080/",
          "height": 35
        }
      },
      "source": [
        "X.shape\n"
      ],
      "execution_count": null,
      "outputs": [
        {
          "output_type": "execute_result",
          "data": {
            "text/plain": [
              "(8523, 10)"
            ]
          },
          "metadata": {
            "tags": []
          },
          "execution_count": 152
        }
      ]
    },
    {
      "cell_type": "code",
      "metadata": {
        "id": "iziEnqbWlvXL",
        "outputId": "719b6b31-2e72-4aa2-e1a5-fc7d8044241d",
        "colab": {
          "base_uri": "https://localhost:8080/",
          "height": 35
        }
      },
      "source": [
        "Y.shape"
      ],
      "execution_count": null,
      "outputs": [
        {
          "output_type": "execute_result",
          "data": {
            "text/plain": [
              "(8523,)"
            ]
          },
          "metadata": {
            "tags": []
          },
          "execution_count": 153
        }
      ]
    },
    {
      "cell_type": "code",
      "metadata": {
        "id": "qB8S5PaWlvHC"
      },
      "source": [
        "Test_Data=np.asarray(Test_Data.drop(['Item_Identifier'],axis=1)).astype('float32')"
      ],
      "execution_count": null,
      "outputs": []
    },
    {
      "cell_type": "code",
      "metadata": {
        "id": "4803Xxhrq_sF",
        "outputId": "42c8b088-d39b-46f3-9c60-083c1551ba91",
        "colab": {
          "base_uri": "https://localhost:8080/",
          "height": 35
        }
      },
      "source": [
        "Test_Data.shape"
      ],
      "execution_count": null,
      "outputs": [
        {
          "output_type": "execute_result",
          "data": {
            "text/plain": [
              "(5681, 10)"
            ]
          },
          "metadata": {
            "tags": []
          },
          "execution_count": 155
        }
      ]
    },
    {
      "cell_type": "code",
      "metadata": {
        "id": "w5i7gegNhouM"
      },
      "source": [
        "# from sklearn.feature_selection import SelectKBest\n",
        "# from sklearn.feature_selection import chi2\n",
        "# from sklearn.preprocessing import MinMaxScaler\n",
        "# X_norm = MinMaxScaler().fit_transform(X)\n",
        "# chi_selector = SelectKBest(chi2, k=9)\n",
        "# chi_selector.fit(X_norm, Y)\n",
        "# # chi_support = chi_selector.get_support()\n",
        "# # chi_feature = X[:,chi_support].columns.tolist()\n",
        "# # print(str(len(chi_feature)), 'selected features')\n",
        "# chi_selector.get_support()"
      ],
      "execution_count": null,
      "outputs": []
    },
    {
      "cell_type": "code",
      "metadata": {
        "id": "npyFqW4JlJ-4"
      },
      "source": [
        "# chi_selector.get_support()"
      ],
      "execution_count": null,
      "outputs": []
    },
    {
      "cell_type": "code",
      "metadata": {
        "id": "Z6d6yB2MRVty"
      },
      "source": [
        "# Make numpy values easier to read.\n",
        "np.set_printoptions(precision=3, suppress=True)\n",
        "\n",
        "import tensorflow as tf\n",
        "from tensorflow.keras import layers\n",
        "from tensorflow.keras.layers.experimental import preprocessing"
      ],
      "execution_count": null,
      "outputs": []
    },
    {
      "cell_type": "code",
      "metadata": {
        "id": "2zixI4PaqUos"
      },
      "source": [
        "model = tf.keras.Sequential([\n",
        "  layers.Dense(64),\n",
        "  layers.Dense(1)\n",
        "])\n"
      ],
      "execution_count": null,
      "outputs": []
    },
    {
      "cell_type": "code",
      "metadata": {
        "id": "12o9xPdHsVkU"
      },
      "source": [
        "model.compile(loss = tf.losses.MeanSquaredError(),\n",
        "                      optimizer = tf.optimizers.Adam())\n"
      ],
      "execution_count": null,
      "outputs": []
    },
    {
      "cell_type": "code",
      "metadata": {
        "id": "waDPwWMzRGdH",
        "outputId": "78da3a3c-ef9d-464d-860b-8162f72d87e5",
        "colab": {
          "base_uri": "https://localhost:8080/",
          "height": 1000
        }
      },
      "source": [
        "model.fit(X, Y, epochs=50)\n"
      ],
      "execution_count": null,
      "outputs": [
        {
          "output_type": "stream",
          "text": [
            "Epoch 1/50\n",
            "267/267 [==============================] - 0s 2ms/step - loss: 5137498.5000\n",
            "Epoch 2/50\n",
            "267/267 [==============================] - 0s 2ms/step - loss: 2112679.5000\n",
            "Epoch 3/50\n",
            "267/267 [==============================] - 0s 2ms/step - loss: 1967899.5000\n",
            "Epoch 4/50\n",
            "267/267 [==============================] - 0s 2ms/step - loss: 1956470.8750\n",
            "Epoch 5/50\n",
            "267/267 [==============================] - 0s 2ms/step - loss: 1943316.7500\n",
            "Epoch 6/50\n",
            "267/267 [==============================] - 0s 2ms/step - loss: 1931241.2500\n",
            "Epoch 7/50\n",
            "267/267 [==============================] - 0s 2ms/step - loss: 1916880.2500\n",
            "Epoch 8/50\n",
            "267/267 [==============================] - 0s 2ms/step - loss: 1902666.7500\n",
            "Epoch 9/50\n",
            "267/267 [==============================] - 0s 2ms/step - loss: 1889632.3750\n",
            "Epoch 10/50\n",
            "267/267 [==============================] - 1s 2ms/step - loss: 1874575.7500\n",
            "Epoch 11/50\n",
            "267/267 [==============================] - 0s 2ms/step - loss: 1858553.7500\n",
            "Epoch 12/50\n",
            "267/267 [==============================] - 0s 2ms/step - loss: 1843084.6250\n",
            "Epoch 13/50\n",
            "267/267 [==============================] - 0s 2ms/step - loss: 1826863.3750\n",
            "Epoch 14/50\n",
            "267/267 [==============================] - 0s 2ms/step - loss: 1809435.5000\n",
            "Epoch 15/50\n",
            "267/267 [==============================] - 0s 2ms/step - loss: 1790381.2500\n",
            "Epoch 16/50\n",
            "267/267 [==============================] - 0s 2ms/step - loss: 1772859.8750\n",
            "Epoch 17/50\n",
            "267/267 [==============================] - 0s 2ms/step - loss: 1752904.1250\n",
            "Epoch 18/50\n",
            "267/267 [==============================] - 0s 2ms/step - loss: 1734713.6250\n",
            "Epoch 19/50\n",
            "267/267 [==============================] - 0s 2ms/step - loss: 1715550.0000\n",
            "Epoch 20/50\n",
            "267/267 [==============================] - 0s 2ms/step - loss: 1695682.0000\n",
            "Epoch 21/50\n",
            "267/267 [==============================] - 0s 2ms/step - loss: 1677697.3750\n",
            "Epoch 22/50\n",
            "267/267 [==============================] - 0s 2ms/step - loss: 1661257.2500\n",
            "Epoch 23/50\n",
            "267/267 [==============================] - 0s 2ms/step - loss: 1643924.3750\n",
            "Epoch 24/50\n",
            "267/267 [==============================] - 0s 2ms/step - loss: 1628555.0000\n",
            "Epoch 25/50\n",
            "267/267 [==============================] - 0s 2ms/step - loss: 1616233.2500\n",
            "Epoch 26/50\n",
            "267/267 [==============================] - 0s 2ms/step - loss: 1602164.8750\n",
            "Epoch 27/50\n",
            "267/267 [==============================] - 0s 2ms/step - loss: 1591234.6250\n",
            "Epoch 28/50\n",
            "267/267 [==============================] - 0s 2ms/step - loss: 1581555.3750\n",
            "Epoch 29/50\n",
            "267/267 [==============================] - 0s 2ms/step - loss: 1571709.7500\n",
            "Epoch 30/50\n",
            "267/267 [==============================] - 0s 2ms/step - loss: 1562279.1250\n",
            "Epoch 31/50\n",
            "267/267 [==============================] - 0s 2ms/step - loss: 1557289.5000\n",
            "Epoch 32/50\n",
            "267/267 [==============================] - 0s 2ms/step - loss: 1549354.7500\n",
            "Epoch 33/50\n",
            "267/267 [==============================] - 0s 2ms/step - loss: 1544221.1250\n",
            "Epoch 34/50\n",
            "267/267 [==============================] - 0s 2ms/step - loss: 1540410.5000\n",
            "Epoch 35/50\n",
            "267/267 [==============================] - 0s 2ms/step - loss: 1535751.3750\n",
            "Epoch 36/50\n",
            "267/267 [==============================] - 1s 2ms/step - loss: 1532570.8750\n",
            "Epoch 37/50\n",
            "267/267 [==============================] - 0s 2ms/step - loss: 1529566.1250\n",
            "Epoch 38/50\n",
            "267/267 [==============================] - 0s 2ms/step - loss: 1527110.0000\n",
            "Epoch 39/50\n",
            "267/267 [==============================] - 0s 2ms/step - loss: 1524922.7500\n",
            "Epoch 40/50\n",
            "267/267 [==============================] - 0s 2ms/step - loss: 1522077.0000\n",
            "Epoch 41/50\n",
            "267/267 [==============================] - 0s 2ms/step - loss: 1521578.3750\n",
            "Epoch 42/50\n",
            "267/267 [==============================] - 0s 2ms/step - loss: 1519420.1250\n",
            "Epoch 43/50\n",
            "267/267 [==============================] - 0s 2ms/step - loss: 1516172.6250\n",
            "Epoch 44/50\n",
            "267/267 [==============================] - 0s 2ms/step - loss: 1513638.6250\n",
            "Epoch 45/50\n",
            "267/267 [==============================] - 0s 2ms/step - loss: 1513523.1250\n",
            "Epoch 46/50\n",
            "267/267 [==============================] - 0s 1ms/step - loss: 1513163.3750\n",
            "Epoch 47/50\n",
            "267/267 [==============================] - 0s 2ms/step - loss: 1509556.0000\n",
            "Epoch 48/50\n",
            "267/267 [==============================] - 0s 2ms/step - loss: 1508155.8750\n",
            "Epoch 49/50\n",
            "267/267 [==============================] - 0s 2ms/step - loss: 1508234.6250\n",
            "Epoch 50/50\n",
            "267/267 [==============================] - 0s 2ms/step - loss: 1505657.7500\n"
          ],
          "name": "stdout"
        },
        {
          "output_type": "execute_result",
          "data": {
            "text/plain": [
              "<tensorflow.python.keras.callbacks.History at 0x7fbe5fd7dfd0>"
            ]
          },
          "metadata": {
            "tags": []
          },
          "execution_count": 161
        }
      ]
    },
    {
      "cell_type": "code",
      "metadata": {
        "id": "Jl6mp3QCRqWM"
      },
      "source": [
        "normalize = preprocessing.Normalization()\n"
      ],
      "execution_count": null,
      "outputs": []
    },
    {
      "cell_type": "code",
      "metadata": {
        "id": "8uuY7f8iSYIF"
      },
      "source": [
        "normalize.adapt(X)"
      ],
      "execution_count": null,
      "outputs": []
    },
    {
      "cell_type": "code",
      "metadata": {
        "id": "s8tGy1zISpvD",
        "outputId": "9fb4bdc5-f853-40d1-9699-ef75266e54ae",
        "colab": {
          "base_uri": "https://localhost:8080/",
          "height": 1000
        }
      },
      "source": [
        "norm_abalone_model = tf.keras.Sequential([\n",
        "  normalize,\n",
        "  layers.Dense(13,activation='relu',kernel_initializer='random_uniform'),\n",
        "  layers.Dense(26,activation='relu',kernel_initializer='random_uniform'),\n",
        "  layers.Dense(52,activation='relu',kernel_initializer='random_uniform'),\n",
        "  layers.Dense(26,activation='relu',kernel_initializer='random_uniform'),\n",
        "  layers.Dense(13,activation='relu',kernel_initializer='Orthogonal'),\n",
        "  layers.Dense(8,activation='relu',kernel_initializer='Orthogonal'),\n",
        "  layers.Dense(1,activation='relu',kernel_initializer='Orthogonal')\n",
        "])\n",
        "\n",
        "norm_abalone_model.compile(loss = tf.losses.MeanSquaredError(),\n",
        "                           optimizer = tf.optimizers.Nadam())\n",
        "\n",
        "# norm_abalone_model.compile(optimizer='adam',\n",
        "#               loss=tf.keras.losses.SparseCategoricalCrossentropy(from_logits=True),\n",
        "#               metrics=['accuracy'])\n",
        "\n",
        "\n",
        "\n",
        "norm_abalone_model.fit(X, Y, epochs=50)\n"
      ],
      "execution_count": null,
      "outputs": [
        {
          "output_type": "stream",
          "text": [
            "Epoch 1/50\n",
            "267/267 [==============================] - 1s 4ms/step - loss: 3953548.2500\n",
            "Epoch 2/50\n",
            "267/267 [==============================] - 1s 4ms/step - loss: 1324229.5000\n",
            "Epoch 3/50\n",
            "267/267 [==============================] - 1s 4ms/step - loss: 1274929.7500\n",
            "Epoch 4/50\n",
            "267/267 [==============================] - 1s 4ms/step - loss: 1246908.0000\n",
            "Epoch 5/50\n",
            "267/267 [==============================] - 1s 4ms/step - loss: 1231973.6250\n",
            "Epoch 6/50\n",
            "267/267 [==============================] - 1s 4ms/step - loss: 1218494.1250\n",
            "Epoch 7/50\n",
            "267/267 [==============================] - 1s 4ms/step - loss: 1207283.3750\n",
            "Epoch 8/50\n",
            "267/267 [==============================] - 1s 4ms/step - loss: 1201852.6250\n",
            "Epoch 9/50\n",
            "267/267 [==============================] - 1s 4ms/step - loss: 1193251.1250\n",
            "Epoch 10/50\n",
            "267/267 [==============================] - 1s 4ms/step - loss: 1189906.3750\n",
            "Epoch 11/50\n",
            "267/267 [==============================] - 1s 4ms/step - loss: 1185546.6250\n",
            "Epoch 12/50\n",
            "267/267 [==============================] - 1s 4ms/step - loss: 1180826.6250\n",
            "Epoch 13/50\n",
            "267/267 [==============================] - 1s 4ms/step - loss: 1178705.2500\n",
            "Epoch 14/50\n",
            "267/267 [==============================] - 1s 4ms/step - loss: 1174826.5000\n",
            "Epoch 15/50\n",
            "267/267 [==============================] - 1s 4ms/step - loss: 1174447.5000\n",
            "Epoch 16/50\n",
            "267/267 [==============================] - 1s 4ms/step - loss: 1169978.7500\n",
            "Epoch 17/50\n",
            "267/267 [==============================] - 1s 4ms/step - loss: 1169749.7500\n",
            "Epoch 18/50\n",
            "267/267 [==============================] - 1s 4ms/step - loss: 1166781.8750\n",
            "Epoch 19/50\n",
            "267/267 [==============================] - 1s 4ms/step - loss: 1164641.0000\n",
            "Epoch 20/50\n",
            "267/267 [==============================] - 1s 4ms/step - loss: 1165898.6250\n",
            "Epoch 21/50\n",
            "267/267 [==============================] - 1s 4ms/step - loss: 1166074.5000\n",
            "Epoch 22/50\n",
            "267/267 [==============================] - 1s 4ms/step - loss: 1162917.0000\n",
            "Epoch 23/50\n",
            "267/267 [==============================] - 1s 4ms/step - loss: 1163524.7500\n",
            "Epoch 24/50\n",
            "267/267 [==============================] - 1s 4ms/step - loss: 1162528.0000\n",
            "Epoch 25/50\n",
            "267/267 [==============================] - 1s 4ms/step - loss: 1162304.7500\n",
            "Epoch 26/50\n",
            "267/267 [==============================] - 1s 4ms/step - loss: 1161044.1250\n",
            "Epoch 27/50\n",
            "267/267 [==============================] - 1s 4ms/step - loss: 1158250.7500\n",
            "Epoch 28/50\n",
            "267/267 [==============================] - 1s 4ms/step - loss: 1161165.0000\n",
            "Epoch 29/50\n",
            "267/267 [==============================] - 1s 4ms/step - loss: 1157992.0000\n",
            "Epoch 30/50\n",
            "267/267 [==============================] - 1s 4ms/step - loss: 1159766.6250\n",
            "Epoch 31/50\n",
            "267/267 [==============================] - 1s 4ms/step - loss: 1158124.8750\n",
            "Epoch 32/50\n",
            "267/267 [==============================] - 1s 4ms/step - loss: 1157524.2500\n",
            "Epoch 33/50\n",
            "267/267 [==============================] - 1s 4ms/step - loss: 1158779.5000\n",
            "Epoch 34/50\n",
            "267/267 [==============================] - 1s 4ms/step - loss: 1157616.5000\n",
            "Epoch 35/50\n",
            "267/267 [==============================] - 1s 4ms/step - loss: 1156546.3750\n",
            "Epoch 36/50\n",
            "267/267 [==============================] - 1s 4ms/step - loss: 1158011.6250\n",
            "Epoch 37/50\n",
            "267/267 [==============================] - 1s 4ms/step - loss: 1154864.6250\n",
            "Epoch 38/50\n",
            "267/267 [==============================] - 1s 5ms/step - loss: 1154178.0000\n",
            "Epoch 39/50\n",
            "267/267 [==============================] - 1s 4ms/step - loss: 1154534.6250\n",
            "Epoch 40/50\n",
            "267/267 [==============================] - 1s 4ms/step - loss: 1158432.6250\n",
            "Epoch 41/50\n",
            "267/267 [==============================] - 1s 5ms/step - loss: 1152261.3750\n",
            "Epoch 42/50\n",
            "267/267 [==============================] - 1s 4ms/step - loss: 1156743.1250\n",
            "Epoch 43/50\n",
            "267/267 [==============================] - 1s 4ms/step - loss: 1157090.5000\n",
            "Epoch 44/50\n",
            "267/267 [==============================] - 1s 4ms/step - loss: 1157150.8750\n",
            "Epoch 45/50\n",
            "267/267 [==============================] - 1s 4ms/step - loss: 1155967.2500\n",
            "Epoch 46/50\n",
            "267/267 [==============================] - 1s 4ms/step - loss: 1151827.2500\n",
            "Epoch 47/50\n",
            "267/267 [==============================] - 1s 4ms/step - loss: 1152806.7500\n",
            "Epoch 48/50\n",
            "267/267 [==============================] - 1s 5ms/step - loss: 1151456.0000\n",
            "Epoch 49/50\n",
            "267/267 [==============================] - 1s 4ms/step - loss: 1149147.0000\n",
            "Epoch 50/50\n",
            "267/267 [==============================] - 1s 5ms/step - loss: 1156693.0000\n"
          ],
          "name": "stdout"
        },
        {
          "output_type": "execute_result",
          "data": {
            "text/plain": [
              "<tensorflow.python.keras.callbacks.History at 0x7fbe5089a518>"
            ]
          },
          "metadata": {
            "tags": []
          },
          "execution_count": 206
        }
      ]
    },
    {
      "cell_type": "code",
      "metadata": {
        "id": "cvl4hZfavs5v",
        "outputId": "2e8c8448-5abd-4b97-ef15-3fdee9b37c09",
        "colab": {
          "base_uri": "https://localhost:8080/",
          "height": 53
        }
      },
      "source": [
        "norm_abalone_model.evaluate(X, Y)"
      ],
      "execution_count": null,
      "outputs": [
        {
          "output_type": "stream",
          "text": [
            "267/267 [==============================] - 0s 2ms/step - loss: 1144832.1250\n"
          ],
          "name": "stdout"
        },
        {
          "output_type": "execute_result",
          "data": {
            "text/plain": [
              "1144832.125"
            ]
          },
          "metadata": {
            "tags": []
          },
          "execution_count": 207
        }
      ]
    },
    {
      "cell_type": "code",
      "metadata": {
        "id": "X6uJTLaDTEzM"
      },
      "source": [
        "predicted=list(norm_abalone_model.predict(Test_Data).flat)"
      ],
      "execution_count": null,
      "outputs": []
    },
    {
      "cell_type": "code",
      "metadata": {
        "id": "reefzV1oXeIW"
      },
      "source": [
        "predicted=pd.Series(data=np.array(predicted),index=test.index,name='Item_Outlet_Sales')"
      ],
      "execution_count": null,
      "outputs": []
    },
    {
      "cell_type": "code",
      "metadata": {
        "id": "CAeQAFHDVtr5"
      },
      "source": [
        "tf_predictions=pd.DataFrame([test['Item_Identifier'],test['Outlet_Identifier'],predicted]).T"
      ],
      "execution_count": null,
      "outputs": []
    },
    {
      "cell_type": "code",
      "metadata": {
        "id": "NeKY3t4SWqxB",
        "outputId": "5333016a-dcf6-4cd4-fbc3-0ce9bc02c5eb",
        "colab": {
          "base_uri": "https://localhost:8080/",
          "height": 206
        }
      },
      "source": [
        "tf_predictions.head()"
      ],
      "execution_count": null,
      "outputs": [
        {
          "output_type": "execute_result",
          "data": {
            "text/html": [
              "<div>\n",
              "<style scoped>\n",
              "    .dataframe tbody tr th:only-of-type {\n",
              "        vertical-align: middle;\n",
              "    }\n",
              "\n",
              "    .dataframe tbody tr th {\n",
              "        vertical-align: top;\n",
              "    }\n",
              "\n",
              "    .dataframe thead th {\n",
              "        text-align: right;\n",
              "    }\n",
              "</style>\n",
              "<table border=\"1\" class=\"dataframe\">\n",
              "  <thead>\n",
              "    <tr style=\"text-align: right;\">\n",
              "      <th></th>\n",
              "      <th>Item_Identifier</th>\n",
              "      <th>Outlet_Identifier</th>\n",
              "      <th>Item_Outlet_Sales</th>\n",
              "    </tr>\n",
              "  </thead>\n",
              "  <tbody>\n",
              "    <tr>\n",
              "      <th>0</th>\n",
              "      <td>FDW58</td>\n",
              "      <td>OUT049</td>\n",
              "      <td>1783.54</td>\n",
              "    </tr>\n",
              "    <tr>\n",
              "      <th>1</th>\n",
              "      <td>FDW14</td>\n",
              "      <td>OUT017</td>\n",
              "      <td>1457.44</td>\n",
              "    </tr>\n",
              "    <tr>\n",
              "      <th>2</th>\n",
              "      <td>NCN55</td>\n",
              "      <td>OUT010</td>\n",
              "      <td>584.623</td>\n",
              "    </tr>\n",
              "    <tr>\n",
              "      <th>3</th>\n",
              "      <td>FDQ58</td>\n",
              "      <td>OUT017</td>\n",
              "      <td>2622.23</td>\n",
              "    </tr>\n",
              "    <tr>\n",
              "      <th>4</th>\n",
              "      <td>FDY38</td>\n",
              "      <td>OUT027</td>\n",
              "      <td>5911.49</td>\n",
              "    </tr>\n",
              "  </tbody>\n",
              "</table>\n",
              "</div>"
            ],
            "text/plain": [
              "  Item_Identifier Outlet_Identifier Item_Outlet_Sales\n",
              "0           FDW58            OUT049           1783.54\n",
              "1           FDW14            OUT017           1457.44\n",
              "2           NCN55            OUT010           584.623\n",
              "3           FDQ58            OUT017           2622.23\n",
              "4           FDY38            OUT027           5911.49"
            ]
          },
          "metadata": {
            "tags": []
          },
          "execution_count": 191
        }
      ]
    },
    {
      "cell_type": "code",
      "metadata": {
        "id": "5gn28n7ZW_vw"
      },
      "source": [
        "tf_predictions.to_csv('tf_predictions.csv',index=False)"
      ],
      "execution_count": null,
      "outputs": []
    },
    {
      "cell_type": "code",
      "metadata": {
        "id": "pzaMl1RZXFot",
        "outputId": "958cefc5-3662-40f5-d240-57230edbc60a",
        "colab": {
          "base_uri": "https://localhost:8080/",
          "height": 35
        }
      },
      "source": [
        "len(tf_predictions[tf_predictions['Item_Outlet_Sales']<0])"
      ],
      "execution_count": null,
      "outputs": [
        {
          "output_type": "execute_result",
          "data": {
            "text/plain": [
              "0"
            ]
          },
          "metadata": {
            "tags": []
          },
          "execution_count": 193
        }
      ]
    },
    {
      "cell_type": "code",
      "metadata": {
        "id": "WHpGmB0sbieO"
      },
      "source": [
        ""
      ],
      "execution_count": null,
      "outputs": []
    }
  ]
}